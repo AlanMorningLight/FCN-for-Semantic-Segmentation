{
 "cells": [
  {
   "cell_type": "code",
   "execution_count": 9,
   "metadata": {
    "collapsed": true
   },
   "outputs": [],
   "source": [
    "import numpy as np\n",
    "import pydensecrf.densecrf as dcrf"
   ]
  },
  {
   "cell_type": "code",
   "execution_count": 10,
   "metadata": {},
   "outputs": [],
   "source": [
    "from skimage.io import imread, imsave"
   ]
  },
  {
   "cell_type": "code",
   "execution_count": 11,
   "metadata": {
    "collapsed": true
   },
   "outputs": [],
   "source": [
    "from pydensecrf.utils import unary_from_labels, create_pairwise_bilateral, create_pairwise_gaussian"
   ]
  },
  {
   "cell_type": "code",
   "execution_count": 82,
   "metadata": {
    "collapsed": true
   },
   "outputs": [],
   "source": [
    "def crf(original_image, annotated_image,output_image, use_2d = True):\n",
    "    annotated_label = annotated_image[:,:,0] + (annotated_image[:,:,1]<<8) + (annotated_image[:,:,2]<<16)\n",
    "    # Convert the 32bit integer color to 1, 2, ... labels.\n",
    "    colors, labels = np.unique(anno_lbl, return_inverse=True)\n",
    "    \n",
    "    colorize = np.empty((len(colors), 3), np.uint8)\n",
    "    colorize[:,0] = (colors & 0x0000FF)\n",
    "    colorize[:,1] = (colors & 0x00FF00) >> 8\n",
    "    colorize[:,2] = (colors & 0xFF0000) >> 16\n",
    "    \n",
    "    n_labels = len(set(labels.flat)) - int(HAS_UNK)\n",
    "\n",
    "    print(n_labels)\n",
    "    \n",
    "    \n",
    "    \n",
    "    if use_2d :\n",
    "        \n",
    "        print(\"--------------Using 2D specialized functions----------------\")\n",
    "        d = dcrf.DenseCRF(original_image.shape[1] * original_image.shape[0], n_labels)\n",
    "\n",
    "        # get unary potentials (neg log probability)\n",
    "        U = unary_from_labels(labels, n_labels, gt_prob=0.7, zero_unsure=HAS_UNK)\n",
    "        d.setUnaryEnergy(U)\n",
    "\n",
    "        # This creates the color-independent features and then add them to the CRF\n",
    "        feats = create_pairwise_gaussian(sdims=(3, 3), shape=original_image.shape[:2])\n",
    "        d.addPairwiseEnergy(feats, compat=3,\n",
    "                            kernel=dcrf.DIAG_KERNEL,\n",
    "                            normalization=dcrf.NORMALIZE_SYMMETRIC)\n",
    "\n",
    "        # This creates the color-dependent features and then add them to the CRF\n",
    "        feats = create_pairwise_bilateral(sdims=(80, 80), schan=(13, 13, 13),\n",
    "                                          img=original_image, chdim=2)\n",
    "        d.addPairwiseEnergy(feats, compat=10,\n",
    "                            kernel=dcrf.DIAG_KERNEL,\n",
    "                            normalization=dcrf.NORMALIZE_SYMMETRIC)\n",
    "    else :\n",
    "        print(\"------------------Using Generic 2D fuctions------------------\")\n",
    "        \n",
    "    Q = d.inference(10)\n",
    "\n",
    "    # Find out the most probable class for each pixel.\n",
    "    MAP = np.argmax(Q, axis=0)\n",
    "\n",
    "    # Convert the MAP (labels) back to the corresponding colors and save the image.\n",
    "    # Note that there is no \"unknown\" here anymore, no matter what we had at first.\n",
    "    MAP = colorize[MAP,:]\n",
    "    imsave(output_image,MAP.reshape(img.shape))\n",
    "\n",
    "    \n",
    "    \n",
    "\n"
   ]
  },
  {
   "cell_type": "code",
   "execution_count": null,
   "metadata": {
    "collapsed": true
   },
   "outputs": [],
   "source": []
  }
 ],
 "metadata": {
  "kernelspec": {
   "display_name": "Python 2",
   "language": "python",
   "name": "python2"
  },
  "language_info": {
   "codemirror_mode": {
    "name": "ipython",
    "version": 2
   },
   "file_extension": ".py",
   "mimetype": "text/x-python",
   "name": "python",
   "nbconvert_exporter": "python",
   "pygments_lexer": "ipython2",
   "version": "2.7.12"
  }
 },
 "nbformat": 4,
 "nbformat_minor": 2
}
