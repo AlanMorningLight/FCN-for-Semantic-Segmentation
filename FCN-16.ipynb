{
 "cells": [
  {
   "cell_type": "code",
   "execution_count": 1,
   "metadata": {
    "collapsed": true
   },
   "outputs": [],
   "source": [
    "import numpy as np"
   ]
  },
  {
   "cell_type": "code",
   "execution_count": 2,
   "metadata": {},
   "outputs": [
    {
     "name": "stderr",
     "output_type": "stream",
     "text": [
      "Using TensorFlow backend.\n"
     ]
    }
   ],
   "source": [
    "from keras.models import Sequential,Model\n",
    "from keras.layers import Convolution2D, ZeroPadding2D, MaxPooling2D, Deconvolution2D, Cropping2D\n",
    "from keras.layers import Input, Add, Dropout, Permute, add"
   ]
  },
  {
   "cell_type": "code",
   "execution_count": 3,
   "metadata": {
    "collapsed": true
   },
   "outputs": [],
   "source": [
    "# Function to create to a series of CONV layers followed by Max pooling layer\n",
    "def Convblock(channel_dimension, block_no, no_of_convs) :\n",
    "    Layers = []\n",
    "    for i in range(no_of_convs) :\n",
    "        \n",
    "        Conv_name = \"conv\"+str(block_no)+\"_\"+str(i+1)\n",
    "        \n",
    "        # A constant kernel size of 3*3 is used for all convolutions\n",
    "        Layers.append(Convolution2D(channel_dimension,kernel_size = (3,3),padding = \"same\",activation = \"relu\",name = Conv_name))\n",
    "    \n",
    "    Max_pooling_name = \"pool\"+str(block_no)\n",
    "    \n",
    "    #Addding max pooling layer\n",
    "    Layers.append(MaxPooling2D(pool_size=(2, 2), strides=(2, 2),name = Max_pooling_name))\n",
    "    \n",
    "    return Layers"
   ]
  },
  {
   "cell_type": "code",
   "execution_count": 4,
   "metadata": {},
   "outputs": [
    {
     "name": "stdout",
     "output_type": "stream",
     "text": [
      "16\n",
      "34\n",
      "2\n",
      "24\n",
      "<keras.layers.pooling.MaxPooling2D object at 0x7f688e1b7ad0>\n",
      "_________________________________________________________________\n",
      "Layer (type)                 Output Shape              Param #   \n",
      "=================================================================\n",
      "permute_1 (Permute)          (None, 512, 512, 3)       0         \n",
      "_________________________________________________________________\n",
      "CONV_1_1 (Conv2D)            (None, 512, 512, 64)      1792      \n",
      "_________________________________________________________________\n",
      "CONV_1_2 (Conv2D)            (None, 512, 512, 64)      36928     \n",
      "_________________________________________________________________\n",
      "MaxPool_1 (MaxPooling2D)     (None, 256, 256, 64)      0         \n",
      "_________________________________________________________________\n",
      "CONV_2_1 (Conv2D)            (None, 256, 256, 128)     73856     \n",
      "_________________________________________________________________\n",
      "CONV_2_2 (Conv2D)            (None, 256, 256, 128)     147584    \n",
      "_________________________________________________________________\n",
      "MaxPool_2 (MaxPooling2D)     (None, 128, 128, 128)     0         \n",
      "_________________________________________________________________\n",
      "CONV_3_1 (Conv2D)            (None, 128, 128, 256)     295168    \n",
      "_________________________________________________________________\n",
      "CONV_3_2 (Conv2D)            (None, 128, 128, 256)     590080    \n",
      "_________________________________________________________________\n",
      "CONV_3_3 (Conv2D)            (None, 128, 128, 256)     590080    \n",
      "_________________________________________________________________\n",
      "MaxPool_3 (MaxPooling2D)     (None, 64, 64, 256)       0         \n",
      "_________________________________________________________________\n",
      "CONV_4_1 (Conv2D)            (None, 64, 64, 512)       1180160   \n",
      "_________________________________________________________________\n",
      "CONV_4_2 (Conv2D)            (None, 64, 64, 512)       2359808   \n",
      "_________________________________________________________________\n",
      "CONV_4_3 (Conv2D)            (None, 64, 64, 512)       2359808   \n",
      "_________________________________________________________________\n",
      "MaxPool_4 (MaxPooling2D)     (None, 32, 32, 512)       0         \n",
      "_________________________________________________________________\n",
      "CONV_5_1 (Conv2D)            (None, 32, 32, 512)       2359808   \n",
      "_________________________________________________________________\n",
      "CONV_5_2 (Conv2D)            (None, 32, 32, 512)       2359808   \n",
      "_________________________________________________________________\n",
      "CONV_5_3 (Conv2D)            (None, 32, 32, 512)       2359808   \n",
      "_________________________________________________________________\n",
      "MaxPool_5 (MaxPooling2D)     (None, 16, 16, 512)       0         \n",
      "_________________________________________________________________\n",
      "Fully_connected_1 (Conv2D)   (None, 16, 16, 4096)      102764544 \n",
      "_________________________________________________________________\n",
      "Fully_connected_2 (Conv2D)   (None, 16, 16, 4096)      16781312  \n",
      "_________________________________________________________________\n",
      "Score (Conv2D)               (None, 16, 16, 21)        86037     \n",
      "_________________________________________________________________\n",
      "Upconv1 (Conv2DTranspose)    (None, 34, 34, 21)        7077      \n",
      "_________________________________________________________________\n",
      "cropping2d_1 (Cropping2D)    (None, 32, 32, 21)        0         \n",
      "=================================================================\n",
      "Total params: 134,353,658\n",
      "Trainable params: 134,353,658\n",
      "Non-trainable params: 0\n",
      "_________________________________________________________________\n",
      "None\n"
     ]
    }
   ],
   "source": [
    "#Helper function to create Sequential part of the Architecture\n",
    "def FCN_16_helper(image_size):\n",
    "    model = Sequential()\n",
    "    model.add(Permute((1,2,3),input_shape = (image_size,image_size,3)))\n",
    "    \n",
    "    \n",
    "    for l in Convblock(64,1,2) :\n",
    "        model.add(l)\n",
    "    \n",
    "    for l in Convblock(128,2,2):\n",
    "        model.add(l)\n",
    "    \n",
    "    for l in Convblock(256,3,3):\n",
    "        model.add(l)\n",
    "    \n",
    "    for l in Convblock(512,4,3):\n",
    "        model.add(l)\n",
    "    \n",
    "    for l in Convblock(512,5,3):\n",
    "        model.add(l)\n",
    "    \n",
    "    \n",
    "    model.add(Convolution2D(4096,kernel_size=(7,7),padding = \"same\",activation = \"relu\",name = \"fc_6\"))\n",
    "    \n",
    "    #Replacing fully connnected layers of VGG Net using convolutions\n",
    "    model.add(Convolution2D(4096,kernel_size=(1,1),padding = \"same\",activation = \"relu\",name = \"fc7\"))\n",
    "    \n",
    "    \n",
    "    # Gives the classifications scores for each of the 21 classes including background\n",
    "    model.add(Convolution2D(21,kernel_size=(1,1),padding=\"same\",activation=\"relu\",name = \"score_fr\"))\n",
    "    \n",
    "    \n",
    "    Conv_size = model.layers[-1].output_shape[2] #32 if image size if 512\n",
    "    print(Conv_size)\n",
    "    \n",
    "    model.add(Deconvolution2D(21,kernel_size=(4,4),strides = (2,2),padding = \"valid\",activation=None,name = \"score2\"))\n",
    "    \n",
    "    # O = ((I-K+2*P)/Stride)+1 \n",
    "    # O = Output dimesnion after convolution\n",
    "    # I = Input dimnesion\n",
    "    # K = kernel Size\n",
    "    # P = Padding\n",
    "    \n",
    "    # I = (O-1)*Stride + K \n",
    "    Deconv_size = model.layers[-1].output_shape[2] #34 if image size is 512*512\n",
    "    \n",
    "    print(Deconv_size)\n",
    "    # 2 if image size is 512*512\n",
    "    Extra = (Deconv_size - 2*Conv_size)\n",
    "    \n",
    "    print(Extra)\n",
    "    \n",
    "    #Cropping to get correct size\n",
    "    model.add(Cropping2D(cropping=((0,Extra),(0,Extra))))\n",
    "    return model\n",
    "\n",
    "output = FCN_16_helper(512)\n",
    "print(len(output.layers))\n",
    "print(output.layers[14])\n",
    "print output.summary()\n",
    "    \n",
    "    "
   ]
  },
  {
   "cell_type": "code",
   "execution_count": 5,
   "metadata": {},
   "outputs": [
    {
     "name": "stdout",
     "output_type": "stream",
     "text": [
      "16\n",
      "34\n",
      "2\n",
      "____________________________________________________________________________________________________\n",
      "Layer (type)                     Output Shape          Param #     Connected to                     \n",
      "====================================================================================================\n",
      "permute_2_input (InputLayer)     (None, 512, 512, 3)   0                                            \n",
      "____________________________________________________________________________________________________\n",
      "permute_2 (Permute)              (None, 512, 512, 3)   0           permute_2_input[0][0]            \n",
      "____________________________________________________________________________________________________\n",
      "CONV_1_1 (Conv2D)                (None, 512, 512, 64)  1792        permute_2[0][0]                  \n",
      "____________________________________________________________________________________________________\n",
      "CONV_1_2 (Conv2D)                (None, 512, 512, 64)  36928       CONV_1_1[0][0]                   \n",
      "____________________________________________________________________________________________________\n",
      "MaxPool_1 (MaxPooling2D)         (None, 256, 256, 64)  0           CONV_1_2[0][0]                   \n",
      "____________________________________________________________________________________________________\n",
      "CONV_2_1 (Conv2D)                (None, 256, 256, 128) 73856       MaxPool_1[0][0]                  \n",
      "____________________________________________________________________________________________________\n",
      "CONV_2_2 (Conv2D)                (None, 256, 256, 128) 147584      CONV_2_1[0][0]                   \n",
      "____________________________________________________________________________________________________\n",
      "MaxPool_2 (MaxPooling2D)         (None, 128, 128, 128) 0           CONV_2_2[0][0]                   \n",
      "____________________________________________________________________________________________________\n",
      "CONV_3_1 (Conv2D)                (None, 128, 128, 256) 295168      MaxPool_2[0][0]                  \n",
      "____________________________________________________________________________________________________\n",
      "CONV_3_2 (Conv2D)                (None, 128, 128, 256) 590080      CONV_3_1[0][0]                   \n",
      "____________________________________________________________________________________________________\n",
      "CONV_3_3 (Conv2D)                (None, 128, 128, 256) 590080      CONV_3_2[0][0]                   \n",
      "____________________________________________________________________________________________________\n",
      "MaxPool_3 (MaxPooling2D)         (None, 64, 64, 256)   0           CONV_3_3[0][0]                   \n",
      "____________________________________________________________________________________________________\n",
      "CONV_4_1 (Conv2D)                (None, 64, 64, 512)   1180160     MaxPool_3[0][0]                  \n",
      "____________________________________________________________________________________________________\n",
      "CONV_4_2 (Conv2D)                (None, 64, 64, 512)   2359808     CONV_4_1[0][0]                   \n",
      "____________________________________________________________________________________________________\n",
      "CONV_4_3 (Conv2D)                (None, 64, 64, 512)   2359808     CONV_4_2[0][0]                   \n",
      "____________________________________________________________________________________________________\n",
      "MaxPool_4 (MaxPooling2D)         (None, 32, 32, 512)   0           CONV_4_3[0][0]                   \n",
      "____________________________________________________________________________________________________\n",
      "CONV_5_1 (Conv2D)                (None, 32, 32, 512)   2359808     MaxPool_4[0][0]                  \n",
      "____________________________________________________________________________________________________\n",
      "CONV_5_2 (Conv2D)                (None, 32, 32, 512)   2359808     CONV_5_1[0][0]                   \n",
      "____________________________________________________________________________________________________\n",
      "CONV_5_3 (Conv2D)                (None, 32, 32, 512)   2359808     CONV_5_2[0][0]                   \n",
      "____________________________________________________________________________________________________\n",
      "MaxPool_5 (MaxPooling2D)         (None, 16, 16, 512)   0           CONV_5_3[0][0]                   \n",
      "____________________________________________________________________________________________________\n",
      "Fully_connected_1 (Conv2D)       (None, 16, 16, 4096)  102764544   MaxPool_5[0][0]                  \n",
      "____________________________________________________________________________________________________\n",
      "Fully_connected_2 (Conv2D)       (None, 16, 16, 4096)  16781312    Fully_connected_1[0][0]          \n",
      "____________________________________________________________________________________________________\n",
      "Score (Conv2D)                   (None, 16, 16, 21)    86037       Fully_connected_2[0][0]          \n",
      "____________________________________________________________________________________________________\n",
      "Upconv1 (Conv2DTranspose)        (None, 34, 34, 21)    7077        Score[0][0]                      \n",
      "____________________________________________________________________________________________________\n",
      "Skip_con (Conv2D)                (None, 32, 32, 21)    10773       MaxPool_4[0][0]                  \n",
      "____________________________________________________________________________________________________\n",
      "cropping2d_2 (Cropping2D)        (None, 32, 32, 21)    0           Upconv1[0][0]                    \n",
      "____________________________________________________________________________________________________\n",
      "add_1 (Add)                      (None, 32, 32, 21)    0           Skip_con[0][0]                   \n",
      "                                                                   cropping2d_2[0][0]               \n",
      "____________________________________________________________________________________________________\n",
      "Upsample (Conv2DTranspose)       (None, 528, 528, 21)  451605      add_1[0][0]                      \n",
      "____________________________________________________________________________________________________\n",
      "cropping2d_3 (Cropping2D)        (None, 512, 512, 21)  0           Upsample[0][0]                   \n",
      "====================================================================================================\n",
      "Total params: 134,816,036\n",
      "Trainable params: 134,816,036\n",
      "Non-trainable params: 0\n",
      "____________________________________________________________________________________________________\n",
      "None\n"
     ]
    }
   ],
   "source": [
    "def FCN_16(image_size) :\n",
    "    fcn_16 = FCN_16_helper(512)\n",
    "    \n",
    "    #Calculating conv size after the sequential block\n",
    "    #32 if image size is 512*512\n",
    "    Conv_size = fcn_16.layers[-1].output_shape[2] \n",
    "    \n",
    "    skip_con = Convolution2D(21,kernel_size=(1,1),padding = \"same\",activation=None, name = \"score_pool4\")\n",
    "    \n",
    "    #Addig skip connection which takes adds the output of Max pooling layer 4 to current layer\n",
    "    Summed = add(inputs = [skip_con(fcn_16.layers[14].output),fcn_16.layers[-1].output])\n",
    "    \n",
    "    \n",
    "    Up = Deconvolution2D(21,kernel_size=(32,32),strides = (16,16),padding = \"valid\",activation = None,name = \"upsample_new\")\n",
    "    \n",
    "    #528 if image size is 512*512\n",
    "    Deconv_size = (Conv_size-1)*16+32\n",
    "    \n",
    "    #16 if image size is 512*512\n",
    "    extra_margin = (Deconv_size - Conv_size*16)\n",
    "    \n",
    "    #Cropping to get the original size of the image\n",
    "    crop = Cropping2D(cropping = ((0,extra_margin),(0,extra_margin)))\n",
    "    return Model(fcn_16.input, crop(Up(Summed)))\n",
    "\n",
    "output = FCN_16(512)\n",
    "\n",
    "print(output.summary())"
   ]
  },
  {
   "cell_type": "code",
   "execution_count": 7,
   "metadata": {},
   "outputs": [
    {
     "name": "stdout",
     "output_type": "stream",
     "text": [
      "16\n",
      "34\n",
      "2\n",
      "____________________________________________________________________________________________________\n",
      "Layer (type)                     Output Shape          Param #     Connected to                     \n",
      "====================================================================================================\n",
      "permute_4_input (InputLayer)     (None, 512, 512, 3)   0                                            \n",
      "____________________________________________________________________________________________________\n",
      "permute_4 (Permute)              (None, 512, 512, 3)   0           permute_4_input[0][0]            \n",
      "____________________________________________________________________________________________________\n",
      "CONV_1_1 (Conv2D)                (None, 512, 512, 64)  1792        permute_4[0][0]                  \n",
      "____________________________________________________________________________________________________\n",
      "CONV_1_2 (Conv2D)                (None, 512, 512, 64)  36928       CONV_1_1[0][0]                   \n",
      "____________________________________________________________________________________________________\n",
      "MaxPool_1 (MaxPooling2D)         (None, 256, 256, 64)  0           CONV_1_2[0][0]                   \n",
      "____________________________________________________________________________________________________\n",
      "CONV_2_1 (Conv2D)                (None, 256, 256, 128) 73856       MaxPool_1[0][0]                  \n",
      "____________________________________________________________________________________________________\n",
      "CONV_2_2 (Conv2D)                (None, 256, 256, 128) 147584      CONV_2_1[0][0]                   \n",
      "____________________________________________________________________________________________________\n",
      "MaxPool_2 (MaxPooling2D)         (None, 128, 128, 128) 0           CONV_2_2[0][0]                   \n",
      "____________________________________________________________________________________________________\n",
      "CONV_3_1 (Conv2D)                (None, 128, 128, 256) 295168      MaxPool_2[0][0]                  \n",
      "____________________________________________________________________________________________________\n",
      "CONV_3_2 (Conv2D)                (None, 128, 128, 256) 590080      CONV_3_1[0][0]                   \n",
      "____________________________________________________________________________________________________\n",
      "CONV_3_3 (Conv2D)                (None, 128, 128, 256) 590080      CONV_3_2[0][0]                   \n",
      "____________________________________________________________________________________________________\n",
      "MaxPool_3 (MaxPooling2D)         (None, 64, 64, 256)   0           CONV_3_3[0][0]                   \n",
      "____________________________________________________________________________________________________\n",
      "CONV_4_1 (Conv2D)                (None, 64, 64, 512)   1180160     MaxPool_3[0][0]                  \n",
      "____________________________________________________________________________________________________\n",
      "CONV_4_2 (Conv2D)                (None, 64, 64, 512)   2359808     CONV_4_1[0][0]                   \n",
      "____________________________________________________________________________________________________\n",
      "CONV_4_3 (Conv2D)                (None, 64, 64, 512)   2359808     CONV_4_2[0][0]                   \n",
      "____________________________________________________________________________________________________\n",
      "MaxPool_4 (MaxPooling2D)         (None, 32, 32, 512)   0           CONV_4_3[0][0]                   \n",
      "____________________________________________________________________________________________________\n",
      "CONV_5_1 (Conv2D)                (None, 32, 32, 512)   2359808     MaxPool_4[0][0]                  \n",
      "____________________________________________________________________________________________________\n",
      "CONV_5_2 (Conv2D)                (None, 32, 32, 512)   2359808     CONV_5_1[0][0]                   \n",
      "____________________________________________________________________________________________________\n",
      "CONV_5_3 (Conv2D)                (None, 32, 32, 512)   2359808     CONV_5_2[0][0]                   \n",
      "____________________________________________________________________________________________________\n",
      "MaxPool_5 (MaxPooling2D)         (None, 16, 16, 512)   0           CONV_5_3[0][0]                   \n",
      "____________________________________________________________________________________________________\n",
      "Fully_connected_1 (Conv2D)       (None, 16, 16, 4096)  102764544   MaxPool_5[0][0]                  \n",
      "____________________________________________________________________________________________________\n",
      "Fully_connected_2 (Conv2D)       (None, 16, 16, 4096)  16781312    Fully_connected_1[0][0]          \n",
      "____________________________________________________________________________________________________\n",
      "Score (Conv2D)                   (None, 16, 16, 21)    86037       Fully_connected_2[0][0]          \n",
      "____________________________________________________________________________________________________\n",
      "Upconv1 (Conv2DTranspose)        (None, 34, 34, 21)    7077        Score[0][0]                      \n",
      "____________________________________________________________________________________________________\n",
      "Skip_con (Conv2D)                (None, 32, 32, 21)    10773       MaxPool_4[0][0]                  \n",
      "____________________________________________________________________________________________________\n",
      "cropping2d_6 (Cropping2D)        (None, 32, 32, 21)    0           Upconv1[0][0]                    \n",
      "____________________________________________________________________________________________________\n",
      "add_3 (Add)                      (None, 32, 32, 21)    0           Skip_con[0][0]                   \n",
      "                                                                   cropping2d_6[0][0]               \n",
      "____________________________________________________________________________________________________\n",
      "Upsample (Conv2DTranspose)       (None, 528, 528, 21)  451605      add_3[0][0]                      \n",
      "____________________________________________________________________________________________________\n",
      "cropping2d_7 (Cropping2D)        (None, 512, 512, 21)  0           Upsample[0][0]                   \n",
      "====================================================================================================\n",
      "Total params: 134,816,036\n",
      "Trainable params: 134,816,036\n",
      "Non-trainable params: 0\n",
      "____________________________________________________________________________________________________\n"
     ]
    }
   ],
   "source": [
    "image_size = 512\n",
    "fcn16_model = FCN_16(512)\n",
    "fcn16_model.summary()"
   ]
  },
  {
   "cell_type": "code",
   "execution_count": 8,
   "metadata": {
    "collapsed": true
   },
   "outputs": [],
   "source": [
    "from scipy.io import loadmat"
   ]
  },
  {
   "cell_type": "code",
   "execution_count": 9,
   "metadata": {
    "collapsed": true
   },
   "outputs": [],
   "source": [
    "data = loadmat('pascal-fcn16s-dag.mat', matlab_compatible=False, struct_as_record=False)\n",
    "layers = data['layers']\n",
    "params = data['params']\n",
    "description = data['meta'][0,0].classes[0,0].description"
   ]
  },
  {
   "cell_type": "code",
   "execution_count": 10,
   "metadata": {},
   "outputs": [
    {
     "name": "stdout",
     "output_type": "stream",
     "text": [
      "['layers', 'vars', '__header__', '__globals__', 'meta', 'params', '__version__']\n"
     ]
    }
   ],
   "source": [
    "print(data.keys())"
   ]
  },
  {
   "cell_type": "code",
   "execution_count": 11,
   "metadata": {},
   "outputs": [
    {
     "name": "stdout",
     "output_type": "stream",
     "text": [
      "<type 'numpy.ndarray'>\n"
     ]
    }
   ],
   "source": [
    "print(type(layers))"
   ]
  },
  {
   "cell_type": "code",
   "execution_count": 12,
   "metadata": {},
   "outputs": [
    {
     "name": "stdout",
     "output_type": "stream",
     "text": [
      "(1, 42)\n"
     ]
    }
   ],
   "source": [
    "print(layers.shape)"
   ]
  },
  {
   "cell_type": "code",
   "execution_count": 13,
   "metadata": {},
   "outputs": [
    {
     "name": "stdout",
     "output_type": "stream",
     "text": [
      "[[<scipy.io.matlab.mio5_params.mat_struct object at 0x7f688cd23a90>\n",
      "  <scipy.io.matlab.mio5_params.mat_struct object at 0x7f688cd23ad0>\n",
      "  <scipy.io.matlab.mio5_params.mat_struct object at 0x7f688cd23b50>\n",
      "  <scipy.io.matlab.mio5_params.mat_struct object at 0x7f688cd23bd0>\n",
      "  <scipy.io.matlab.mio5_params.mat_struct object at 0x7f688cd23c50>\n",
      "  <scipy.io.matlab.mio5_params.mat_struct object at 0x7f688cd23cd0>\n",
      "  <scipy.io.matlab.mio5_params.mat_struct object at 0x7f688cd23d50>\n",
      "  <scipy.io.matlab.mio5_params.mat_struct object at 0x7f688cd23dd0>\n",
      "  <scipy.io.matlab.mio5_params.mat_struct object at 0x7f688cd23e50>\n",
      "  <scipy.io.matlab.mio5_params.mat_struct object at 0x7f688cd23ed0>\n",
      "  <scipy.io.matlab.mio5_params.mat_struct object at 0x7f688cd23f50>\n",
      "  <scipy.io.matlab.mio5_params.mat_struct object at 0x7f688cd23fd0>\n",
      "  <scipy.io.matlab.mio5_params.mat_struct object at 0x7f688cd3c090>\n",
      "  <scipy.io.matlab.mio5_params.mat_struct object at 0x7f688cd3c110>\n",
      "  <scipy.io.matlab.mio5_params.mat_struct object at 0x7f688cd3c190>\n",
      "  <scipy.io.matlab.mio5_params.mat_struct object at 0x7f688cd3c210>\n",
      "  <scipy.io.matlab.mio5_params.mat_struct object at 0x7f688cd3c290>\n",
      "  <scipy.io.matlab.mio5_params.mat_struct object at 0x7f688cd3c310>\n",
      "  <scipy.io.matlab.mio5_params.mat_struct object at 0x7f688cd3c390>\n",
      "  <scipy.io.matlab.mio5_params.mat_struct object at 0x7f688cd3c410>\n",
      "  <scipy.io.matlab.mio5_params.mat_struct object at 0x7f688cd3c490>\n",
      "  <scipy.io.matlab.mio5_params.mat_struct object at 0x7f688cd3c510>\n",
      "  <scipy.io.matlab.mio5_params.mat_struct object at 0x7f688cd3c590>\n",
      "  <scipy.io.matlab.mio5_params.mat_struct object at 0x7f688cd3c610>\n",
      "  <scipy.io.matlab.mio5_params.mat_struct object at 0x7f688cd3c690>\n",
      "  <scipy.io.matlab.mio5_params.mat_struct object at 0x7f688cd3c710>\n",
      "  <scipy.io.matlab.mio5_params.mat_struct object at 0x7f688cd3c790>\n",
      "  <scipy.io.matlab.mio5_params.mat_struct object at 0x7f688cd3c810>\n",
      "  <scipy.io.matlab.mio5_params.mat_struct object at 0x7f688cd3c890>\n",
      "  <scipy.io.matlab.mio5_params.mat_struct object at 0x7f688cd3c910>\n",
      "  <scipy.io.matlab.mio5_params.mat_struct object at 0x7f688cd3c990>\n",
      "  <scipy.io.matlab.mio5_params.mat_struct object at 0x7f688cd3ca10>\n",
      "  <scipy.io.matlab.mio5_params.mat_struct object at 0x7f688cd3ca90>\n",
      "  <scipy.io.matlab.mio5_params.mat_struct object at 0x7f688cd3cb10>\n",
      "  <scipy.io.matlab.mio5_params.mat_struct object at 0x7f688cd3cb90>\n",
      "  <scipy.io.matlab.mio5_params.mat_struct object at 0x7f688cd3cc10>\n",
      "  <scipy.io.matlab.mio5_params.mat_struct object at 0x7f688cd3cc90>\n",
      "  <scipy.io.matlab.mio5_params.mat_struct object at 0x7f688cd3cd10>\n",
      "  <scipy.io.matlab.mio5_params.mat_struct object at 0x7f688cd3cd90>\n",
      "  <scipy.io.matlab.mio5_params.mat_struct object at 0x7f688cd3ce10>\n",
      "  <scipy.io.matlab.mio5_params.mat_struct object at 0x7f688cd3ce90>\n",
      "  <scipy.io.matlab.mio5_params.mat_struct object at 0x7f688cd3cf10>]]\n"
     ]
    }
   ],
   "source": [
    "print(layers)"
   ]
  },
  {
   "cell_type": "code",
   "execution_count": 14,
   "metadata": {},
   "outputs": [
    {
     "name": "stdout",
     "output_type": "stream",
     "text": [
      "['aeroplane', 'background', 'bicycle', 'bird', 'boat', 'bottle', 'bus', 'car', 'cat', 'chair', 'cow', 'diningtable', 'dog', 'horse', 'motorbike', 'person', 'pottedplant', 'sheep', 'sofa', 'train', 'tvmonitor']\n"
     ]
    }
   ],
   "source": [
    "class2index = {}\n",
    "for i, clname in enumerate(description[0,:]):\n",
    "    class2index[str(clname[0])] = i\n",
    "    \n",
    "print(sorted(class2index.keys()))"
   ]
  },
  {
   "cell_type": "code",
   "execution_count": 17,
   "metadata": {},
   "outputs": [
    {
     "name": "stdout",
     "output_type": "stream",
     "text": [
      "(0, 'conv1_1_filter', (3, 3, 3, 64), 'conv1_1_bias', (64, 1))\n",
      "(2, 'conv1_2_filter', (3, 3, 64, 64), 'conv1_2_bias', (64, 1))\n",
      "(4, 'conv2_1_filter', (3, 3, 64, 128), 'conv2_1_bias', (128, 1))\n",
      "(6, 'conv2_2_filter', (3, 3, 128, 128), 'conv2_2_bias', (128, 1))\n",
      "(8, 'conv3_1_filter', (3, 3, 128, 256), 'conv3_1_bias', (256, 1))\n",
      "(10, 'conv3_2_filter', (3, 3, 256, 256), 'conv3_2_bias', (256, 1))\n",
      "(12, 'conv3_3_filter', (3, 3, 256, 256), 'conv3_3_bias', (256, 1))\n",
      "(14, 'conv4_1_filter', (3, 3, 256, 512), 'conv4_1_bias', (512, 1))\n",
      "(16, 'conv4_2_filter', (3, 3, 512, 512), 'conv4_2_bias', (512, 1))\n",
      "(18, 'conv4_3_filter', (3, 3, 512, 512), 'conv4_3_bias', (512, 1))\n",
      "(20, 'conv5_1_filter', (3, 3, 512, 512), 'conv5_1_bias', (512, 1))\n",
      "(22, 'conv5_2_filter', (3, 3, 512, 512), 'conv5_2_bias', (512, 1))\n",
      "(24, 'conv5_3_filter', (3, 3, 512, 512), 'conv5_3_bias', (512, 1))\n",
      "(26, 'fc6_filter', (7, 7, 512, 4096), 'fc6_bias', (4096, 1))\n",
      "(28, 'fc7_filter', (1, 1, 4096, 4096), 'fc7_bias', (4096, 1))\n",
      "(30, 'score_fr_filter', (1, 1, 4096, 21), 'score_fr_bias', (21, 1))\n",
      "(32, 'score2_filter', (4, 4, 21, 21), 'score2_bias', (21, 1))\n",
      "(34, 'score_pool4_filter', (1, 1, 512, 21), 'score_pool4_bias', (21, 1))\n",
      "(36, 'upsample_new_filter', (32, 32, 21, 21), 'upsample_new_bias', (21, 1))\n"
     ]
    }
   ],
   "source": [
    "for i in range(0, params.shape[1]-1, 2):\n",
    "    print(i,\n",
    "          str(params[0,i].name[0]), params[0,i].value.shape,\n",
    "          str(params[0,i+1].name[0]), params[0,i+1].value.shape)"
   ]
  },
  {
   "cell_type": "code",
   "execution_count": 19,
   "metadata": {},
   "outputs": [
    {
     "name": "stdout",
     "output_type": "stream",
     "text": [
      "(0, 'conv1_1', 'dagnn.Conv', ['data'], ['conv1_1'])\n",
      "(1, 'relu1_1', 'dagnn.ReLU', ['conv1_1'], ['conv1_1x'])\n",
      "(2, 'conv1_2', 'dagnn.Conv', ['conv1_1x'], ['conv1_2'])\n",
      "(3, 'relu1_2', 'dagnn.ReLU', ['conv1_2'], ['conv1_2x'])\n",
      "(4, 'pool1', 'dagnn.Pooling', ['conv1_2x'], ['pool1'])\n",
      "(5, 'conv2_1', 'dagnn.Conv', ['pool1'], ['conv2_1'])\n",
      "(6, 'relu2_1', 'dagnn.ReLU', ['conv2_1'], ['conv2_1x'])\n",
      "(7, 'conv2_2', 'dagnn.Conv', ['conv2_1x'], ['conv2_2'])\n",
      "(8, 'relu2_2', 'dagnn.ReLU', ['conv2_2'], ['conv2_2x'])\n",
      "(9, 'pool2', 'dagnn.Pooling', ['conv2_2x'], ['pool2'])\n",
      "(10, 'conv3_1', 'dagnn.Conv', ['pool2'], ['conv3_1'])\n",
      "(11, 'relu3_1', 'dagnn.ReLU', ['conv3_1'], ['conv3_1x'])\n",
      "(12, 'conv3_2', 'dagnn.Conv', ['conv3_1x'], ['conv3_2'])\n",
      "(13, 'relu3_2', 'dagnn.ReLU', ['conv3_2'], ['conv3_2x'])\n",
      "(14, 'conv3_3', 'dagnn.Conv', ['conv3_2x'], ['conv3_3'])\n",
      "(15, 'relu3_3', 'dagnn.ReLU', ['conv3_3'], ['conv3_3x'])\n",
      "(16, 'pool3', 'dagnn.Pooling', ['conv3_3x'], ['pool3'])\n",
      "(17, 'conv4_1', 'dagnn.Conv', ['pool3'], ['conv4_1'])\n",
      "(18, 'relu4_1', 'dagnn.ReLU', ['conv4_1'], ['conv4_1x'])\n",
      "(19, 'conv4_2', 'dagnn.Conv', ['conv4_1x'], ['conv4_2'])\n",
      "(20, 'relu4_2', 'dagnn.ReLU', ['conv4_2'], ['conv4_2x'])\n",
      "(21, 'conv4_3', 'dagnn.Conv', ['conv4_2x'], ['conv4_3'])\n",
      "(22, 'relu4_3', 'dagnn.ReLU', ['conv4_3'], ['conv4_3x'])\n",
      "(23, 'pool4', 'dagnn.Pooling', ['conv4_3x'], ['pool4'])\n",
      "(24, 'conv5_1', 'dagnn.Conv', ['pool4'], ['conv5_1'])\n",
      "(25, 'relu5_1', 'dagnn.ReLU', ['conv5_1'], ['conv5_1x'])\n",
      "(26, 'conv5_2', 'dagnn.Conv', ['conv5_1x'], ['conv5_2'])\n",
      "(27, 'relu5_2', 'dagnn.ReLU', ['conv5_2'], ['conv5_2x'])\n",
      "(28, 'conv5_3', 'dagnn.Conv', ['conv5_2x'], ['conv5_3'])\n",
      "(29, 'relu5_3', 'dagnn.ReLU', ['conv5_3'], ['conv5_3x'])\n",
      "(30, 'pool5', 'dagnn.Pooling', ['conv5_3x'], ['pool5'])\n",
      "(31, 'fc6', 'dagnn.Conv', ['pool5'], ['fc6'])\n",
      "(32, 'relu6', 'dagnn.ReLU', ['fc6'], ['fc6x'])\n",
      "(33, 'fc7', 'dagnn.Conv', ['fc6x'], ['fc7'])\n",
      "(34, 'relu7', 'dagnn.ReLU', ['fc7'], ['fc7x'])\n",
      "(35, 'score_fr', 'dagnn.Conv', ['fc7x'], ['score'])\n",
      "(36, 'score2', 'dagnn.ConvTranspose', ['score'], ['score2'])\n",
      "(37, 'score_pool4', 'dagnn.Conv', ['pool4'], ['score_pool4'])\n",
      "(38, 'crop', 'dagnn.Crop', ['score_pool4', 'score2'], ['score_pool4c'])\n",
      "(39, 'fuse', 'dagnn.Sum', ['score2', 'score_pool4c'], ['score_fused'])\n",
      "(40, 'upsample_new', 'dagnn.ConvTranspose', ['score_fused'], ['bigscore'])\n",
      "(41, 'cropx', 'dagnn.Crop', ['bigscore', 'data'], ['upscore'])\n"
     ]
    }
   ],
   "source": [
    "for i in range(layers.shape[1]):\n",
    "    print(i,\n",
    "          str(layers[0,i].name[0]), str(layers[0,i].type[0]),\n",
    "          [str(n[0]) for n in layers[0,i].inputs[0,:]],\n",
    "          [str(n[0]) for n in layers[0,i].outputs[0,:]])"
   ]
  },
  {
   "cell_type": "code",
   "execution_count": null,
   "metadata": {
    "collapsed": true
   },
   "outputs": [],
   "source": []
  }
 ],
 "metadata": {
  "kernelspec": {
   "display_name": "Python 2",
   "language": "python",
   "name": "python2"
  },
  "language_info": {
   "codemirror_mode": {
    "name": "ipython",
    "version": 2
   },
   "file_extension": ".py",
   "mimetype": "text/x-python",
   "name": "python",
   "nbconvert_exporter": "python",
   "pygments_lexer": "ipython2",
   "version": "2.7.12"
  }
 },
 "nbformat": 4,
 "nbformat_minor": 2
}
