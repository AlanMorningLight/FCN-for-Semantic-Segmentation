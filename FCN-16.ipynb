{
 "cells": [
  {
   "cell_type": "code",
   "execution_count": 1,
   "metadata": {
    "collapsed": true
   },
   "outputs": [],
   "source": [
    "import numpy as np"
   ]
  },
  {
   "cell_type": "code",
   "execution_count": 5,
   "metadata": {},
   "outputs": [],
   "source": [
    "from keras.models import Sequential,Model\n",
    "from keras.layers import Convolution2D, ZeroPadding2D, MaxPooling2D, Deconvolution2D, Cropping2D\n",
    "from keras.layers import Input, Add, Dropout, Permute, add"
   ]
  },
  {
   "cell_type": "code",
   "execution_count": 13,
   "metadata": {},
   "outputs": [],
   "source": [
    "def Convblock(channel_dimension, block_no, no_of_convs) :\n",
    "    Layers = []\n",
    "    for i in range(no_of_convs) :\n",
    "        \n",
    "        Conv_name = \"CONV_\"+str(block_no)+\"_\"+str(i+1)\n",
    "        \n",
    "        \n",
    "        Layers.append(Convolution2D(channel_dimension,kernel_size = (3,3),padding = \"same\",activation = \"relu\",name = Conv_name))\n",
    "    \n",
    "    Layers.append(MaxPooling2D(pool_size=(2, 2), strides=(2, 2)))\n",
    "    \n",
    "    return Layers"
   ]
  },
  {
   "cell_type": "code",
   "execution_count": 15,
   "metadata": {},
   "outputs": [
    {
     "name": "stdout",
     "output_type": "stream",
     "text": [
      "_________________________________________________________________\n",
      "Layer (type)                 Output Shape              Param #   \n",
      "=================================================================\n",
      "permute_3 (Permute)          (None, 512, 512, 3)       0         \n",
      "_________________________________________________________________\n",
      "CONV_1_1 (Conv2D)            (None, 512, 512, 64)      1792      \n",
      "_________________________________________________________________\n",
      "CONV_1_2 (Conv2D)            (None, 512, 512, 64)      36928     \n",
      "_________________________________________________________________\n",
      "max_pooling2d_6 (MaxPooling2 (None, 256, 256, 64)      0         \n",
      "_________________________________________________________________\n",
      "CONV_2_1 (Conv2D)            (None, 256, 256, 128)     73856     \n",
      "_________________________________________________________________\n",
      "CONV_2_2 (Conv2D)            (None, 256, 256, 128)     147584    \n",
      "_________________________________________________________________\n",
      "max_pooling2d_7 (MaxPooling2 (None, 128, 128, 128)     0         \n",
      "_________________________________________________________________\n",
      "CONV_3_1 (Conv2D)            (None, 128, 128, 256)     295168    \n",
      "_________________________________________________________________\n",
      "CONV_3_2 (Conv2D)            (None, 128, 128, 256)     590080    \n",
      "_________________________________________________________________\n",
      "CONV_3_3 (Conv2D)            (None, 128, 128, 256)     590080    \n",
      "_________________________________________________________________\n",
      "max_pooling2d_8 (MaxPooling2 (None, 64, 64, 256)       0         \n",
      "_________________________________________________________________\n",
      "CONV_4_1 (Conv2D)            (None, 64, 64, 512)       1180160   \n",
      "_________________________________________________________________\n",
      "CONV_4_2 (Conv2D)            (None, 64, 64, 512)       2359808   \n",
      "_________________________________________________________________\n",
      "CONV_4_3 (Conv2D)            (None, 64, 64, 512)       2359808   \n",
      "_________________________________________________________________\n",
      "max_pooling2d_9 (MaxPooling2 (None, 32, 32, 512)       0         \n",
      "_________________________________________________________________\n",
      "CONV_5_1 (Conv2D)            (None, 32, 32, 512)       2359808   \n",
      "_________________________________________________________________\n",
      "CONV_5_2 (Conv2D)            (None, 32, 32, 512)       2359808   \n",
      "_________________________________________________________________\n",
      "CONV_5_3 (Conv2D)            (None, 32, 32, 512)       2359808   \n",
      "_________________________________________________________________\n",
      "max_pooling2d_10 (MaxPooling (None, 16, 16, 512)       0         \n",
      "_________________________________________________________________\n",
      "Fully_connected_1 (Conv2D)   (None, 16, 16, 4096)      102764544 \n",
      "_________________________________________________________________\n",
      "Fully_connected_2 (Conv2D)   (None, 16, 16, 4096)      16781312  \n",
      "_________________________________________________________________\n",
      "Score (Conv2D)               (None, 16, 16, 21)        86037     \n",
      "=================================================================\n",
      "Total params: 134,346,581\n",
      "Trainable params: 134,346,581\n",
      "Non-trainable params: 0\n",
      "_________________________________________________________________\n",
      "None\n"
     ]
    }
   ],
   "source": [
    "def FCN_16(image_size):\n",
    "    model = Sequential()\n",
    "    model.add(Permute((1,2,3),input_shape = (image_size,image_size,3)))\n",
    "    \n",
    "    \n",
    "    for l in Convblock(64,1,2) :\n",
    "        model.add(l)\n",
    "    \n",
    "    for l in Convblock(128,2,2):\n",
    "        model.add(l)\n",
    "    \n",
    "    for l in Convblock(256,3,3):\n",
    "        model.add(l)\n",
    "    \n",
    "    for l in Convblock(512,4,3):\n",
    "        model.add(l)\n",
    "    \n",
    "    for l in Convblock(512,5,3):\n",
    "        model.add(l)\n",
    "    \n",
    "    model.add(Convolution2D(4096,kernel_size=(7,7),padding = \"same\",activation = \"relu\",name = \"Fully_connected_1\"))\n",
    "    \n",
    "    model.add(Convolution2D(4096,kernel_size=(1,1),padding = \"same\",activation = \"relu\",name = \"Fully_connected_2\"))\n",
    "    \n",
    "    model.add(Convolution2D(21,kernel_size=(1,1),padding=\"same\",activation=\"relu\",name = \"Score\"))\n",
    "    return model\n",
    "\n",
    "output = FCN_16(512)\n",
    "print output.summary()\n",
    "    \n",
    "    "
   ]
  },
  {
   "cell_type": "code",
   "execution_count": null,
   "metadata": {
    "collapsed": true
   },
   "outputs": [],
   "source": []
  }
 ],
 "metadata": {
  "kernelspec": {
   "display_name": "Python 2",
   "language": "python",
   "name": "python2"
  },
  "language_info": {
   "codemirror_mode": {
    "name": "ipython",
    "version": 2
   },
   "file_extension": ".py",
   "mimetype": "text/x-python",
   "name": "python",
   "nbconvert_exporter": "python",
   "pygments_lexer": "ipython2",
   "version": "2.7.12"
  }
 },
 "nbformat": 4,
 "nbformat_minor": 2
}
