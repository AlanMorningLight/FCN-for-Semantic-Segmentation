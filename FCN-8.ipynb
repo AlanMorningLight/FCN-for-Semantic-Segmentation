{
 "cells": [
  {
   "cell_type": "code",
   "execution_count": 1,
   "metadata": {
    "collapsed": true
   },
   "outputs": [],
   "source": [
    "from scipy.io import loadmat"
   ]
  },
  {
   "cell_type": "code",
   "execution_count": 3,
   "metadata": {},
   "outputs": [],
   "source": [
    "data = loadmat('pascal-fcn8s-dag .mat', matlab_compatible=False, struct_as_record=False)\n",
    "layers = data['layers']\n",
    "params = data['params']\n",
    "description = data['meta'][0,0].classes[0,0].description"
   ]
  },
  {
   "cell_type": "code",
   "execution_count": 4,
   "metadata": {},
   "outputs": [
    {
     "name": "stdout",
     "output_type": "stream",
     "text": [
      "['layers', 'vars', '__header__', '__globals__', 'meta', 'params', '__version__']\n"
     ]
    }
   ],
   "source": [
    "print(data.keys())"
   ]
  },
  {
   "cell_type": "code",
   "execution_count": 5,
   "metadata": {},
   "outputs": [
    {
     "name": "stdout",
     "output_type": "stream",
     "text": [
      "(1, 46)\n"
     ]
    }
   ],
   "source": [
    "print(layers.shape)"
   ]
  },
  {
   "cell_type": "code",
   "execution_count": 6,
   "metadata": {},
   "outputs": [
    {
     "name": "stdout",
     "output_type": "stream",
     "text": [
      "(0, 'conv1_1', 'dagnn.Conv', ['data'], ['conv1_1'])\n",
      "(1, 'relu1_1', 'dagnn.ReLU', ['conv1_1'], ['conv1_1x'])\n",
      "(2, 'conv1_2', 'dagnn.Conv', ['conv1_1x'], ['conv1_2'])\n",
      "(3, 'relu1_2', 'dagnn.ReLU', ['conv1_2'], ['conv1_2x'])\n",
      "(4, 'pool1', 'dagnn.Pooling', ['conv1_2x'], ['pool1'])\n",
      "(5, 'conv2_1', 'dagnn.Conv', ['pool1'], ['conv2_1'])\n",
      "(6, 'relu2_1', 'dagnn.ReLU', ['conv2_1'], ['conv2_1x'])\n",
      "(7, 'conv2_2', 'dagnn.Conv', ['conv2_1x'], ['conv2_2'])\n",
      "(8, 'relu2_2', 'dagnn.ReLU', ['conv2_2'], ['conv2_2x'])\n",
      "(9, 'pool2', 'dagnn.Pooling', ['conv2_2x'], ['pool2'])\n",
      "(10, 'conv3_1', 'dagnn.Conv', ['pool2'], ['conv3_1'])\n",
      "(11, 'relu3_1', 'dagnn.ReLU', ['conv3_1'], ['conv3_1x'])\n",
      "(12, 'conv3_2', 'dagnn.Conv', ['conv3_1x'], ['conv3_2'])\n",
      "(13, 'relu3_2', 'dagnn.ReLU', ['conv3_2'], ['conv3_2x'])\n",
      "(14, 'conv3_3', 'dagnn.Conv', ['conv3_2x'], ['conv3_3'])\n",
      "(15, 'relu3_3', 'dagnn.ReLU', ['conv3_3'], ['conv3_3x'])\n",
      "(16, 'pool3', 'dagnn.Pooling', ['conv3_3x'], ['pool3'])\n",
      "(17, 'conv4_1', 'dagnn.Conv', ['pool3'], ['conv4_1'])\n",
      "(18, 'relu4_1', 'dagnn.ReLU', ['conv4_1'], ['conv4_1x'])\n",
      "(19, 'conv4_2', 'dagnn.Conv', ['conv4_1x'], ['conv4_2'])\n",
      "(20, 'relu4_2', 'dagnn.ReLU', ['conv4_2'], ['conv4_2x'])\n",
      "(21, 'conv4_3', 'dagnn.Conv', ['conv4_2x'], ['conv4_3'])\n",
      "(22, 'relu4_3', 'dagnn.ReLU', ['conv4_3'], ['conv4_3x'])\n",
      "(23, 'pool4', 'dagnn.Pooling', ['conv4_3x'], ['pool4'])\n",
      "(24, 'conv5_1', 'dagnn.Conv', ['pool4'], ['conv5_1'])\n",
      "(25, 'relu5_1', 'dagnn.ReLU', ['conv5_1'], ['conv5_1x'])\n",
      "(26, 'conv5_2', 'dagnn.Conv', ['conv5_1x'], ['conv5_2'])\n",
      "(27, 'relu5_2', 'dagnn.ReLU', ['conv5_2'], ['conv5_2x'])\n",
      "(28, 'conv5_3', 'dagnn.Conv', ['conv5_2x'], ['conv5_3'])\n",
      "(29, 'relu5_3', 'dagnn.ReLU', ['conv5_3'], ['conv5_3x'])\n",
      "(30, 'pool5', 'dagnn.Pooling', ['conv5_3x'], ['pool5'])\n",
      "(31, 'fc6', 'dagnn.Conv', ['pool5'], ['fc6'])\n",
      "(32, 'relu6', 'dagnn.ReLU', ['fc6'], ['fc6x'])\n",
      "(33, 'fc7', 'dagnn.Conv', ['fc6x'], ['fc7'])\n",
      "(34, 'relu7', 'dagnn.ReLU', ['fc7'], ['fc7x'])\n",
      "(35, 'score_fr', 'dagnn.Conv', ['fc7x'], ['score'])\n",
      "(36, 'score2', 'dagnn.ConvTranspose', ['score'], ['score2'])\n",
      "(37, 'score_pool4', 'dagnn.Conv', ['pool4'], ['score_pool4'])\n",
      "(38, 'crop', 'dagnn.Crop', ['score_pool4', 'score2'], ['score_pool4c'])\n",
      "(39, 'fuse', 'dagnn.Sum', ['score2', 'score_pool4c'], ['score_fused'])\n",
      "(40, 'score4', 'dagnn.ConvTranspose', ['score_fused'], ['score4'])\n",
      "(41, 'score_pool3', 'dagnn.Conv', ['pool3'], ['score_pool3'])\n",
      "(42, 'cropx', 'dagnn.Crop', ['score_pool3', 'score4'], ['score_pool3c'])\n",
      "(43, 'fusex', 'dagnn.Sum', ['score4', 'score_pool3c'], ['score_final'])\n",
      "(44, 'upsample', 'dagnn.ConvTranspose', ['score_final'], ['bigscore'])\n",
      "(45, 'cropxx', 'dagnn.Crop', ['bigscore', 'data'], ['upscore'])\n"
     ]
    }
   ],
   "source": [
    "for i in range(layers.shape[1]):\n",
    "    print(i,\n",
    "          str(layers[0,i].name[0]), str(layers[0,i].type[0]),\n",
    "          [str(n[0]) for n in layers[0,i].inputs[0,:]],\n",
    "          [str(n[0]) for n in layers[0,i].outputs[0,:]])"
   ]
  },
  {
   "cell_type": "code",
   "execution_count": 29,
   "metadata": {},
   "outputs": [
    {
     "name": "stdout",
     "output_type": "stream",
     "text": [
      "(0, 'conv1_1_filter', (3, 3, 3, 64), 'conv1_1_bias', (64, 1))\n",
      "(2, 'conv1_2_filter', (3, 3, 64, 64), 'conv1_2_bias', (64, 1))\n",
      "(4, 'conv2_1_filter', (3, 3, 64, 128), 'conv2_1_bias', (128, 1))\n",
      "(6, 'conv2_2_filter', (3, 3, 128, 128), 'conv2_2_bias', (128, 1))\n",
      "(8, 'conv3_1_filter', (3, 3, 128, 256), 'conv3_1_bias', (256, 1))\n",
      "(10, 'conv3_2_filter', (3, 3, 256, 256), 'conv3_2_bias', (256, 1))\n",
      "(12, 'conv3_3_filter', (3, 3, 256, 256), 'conv3_3_bias', (256, 1))\n",
      "(14, 'conv4_1_filter', (3, 3, 256, 512), 'conv4_1_bias', (512, 1))\n",
      "(16, 'conv4_2_filter', (3, 3, 512, 512), 'conv4_2_bias', (512, 1))\n",
      "(18, 'conv4_3_filter', (3, 3, 512, 512), 'conv4_3_bias', (512, 1))\n",
      "(20, 'conv5_1_filter', (3, 3, 512, 512), 'conv5_1_bias', (512, 1))\n",
      "(22, 'conv5_2_filter', (3, 3, 512, 512), 'conv5_2_bias', (512, 1))\n",
      "(24, 'conv5_3_filter', (3, 3, 512, 512), 'conv5_3_bias', (512, 1))\n",
      "(26, 'fc6_filter', (7, 7, 512, 4096), 'fc6_bias', (4096, 1))\n",
      "(28, 'fc7_filter', (1, 1, 4096, 4096), 'fc7_bias', (4096, 1))\n",
      "(30, 'score_fr_filter', (1, 1, 4096, 21), 'score_fr_bias', (21, 1))\n",
      "(32, 'score2_filter', (4, 4, 21, 21), 'score2_bias', (21, 1))\n",
      "(34, 'score_pool4_filter', (1, 1, 512, 21), 'score_pool4_bias', (21, 1))\n",
      "(36, 'score4_filter', (4, 4, 21, 21), 'score_pool3_filter', (1, 1, 256, 21))\n",
      "(38, 'score_pool3_bias', (21, 1), 'upsample_filter', (16, 16, 21, 21))\n"
     ]
    }
   ],
   "source": [
    "for i in range(0, params.shape[1]-1, 2):\n",
    "    print(i,\n",
    "          str(params[0,i].name[0]), params[0,i].value.shape,\n",
    "          str(params[0,i+1].name[0]), params[0,i+1].value.shape)"
   ]
  },
  {
   "cell_type": "code",
   "execution_count": 8,
   "metadata": {},
   "outputs": [
    {
     "data": {
      "text/plain": [
       "(1, 40)"
      ]
     },
     "execution_count": 8,
     "metadata": {},
     "output_type": "execute_result"
    }
   ],
   "source": [
    "params.shape"
   ]
  },
  {
   "cell_type": "code",
   "execution_count": 10,
   "metadata": {
    "collapsed": true
   },
   "outputs": [],
   "source": [
    "import numpy as np\n"
   ]
  },
  {
   "cell_type": "code",
   "execution_count": 11,
   "metadata": {},
   "outputs": [
    {
     "name": "stderr",
     "output_type": "stream",
     "text": [
      "Using TensorFlow backend.\n"
     ]
    }
   ],
   "source": [
    "from keras.models import Sequential,Model\n",
    "from keras.layers import Convolution2D, ZeroPadding2D, MaxPooling2D, Deconvolution2D, Cropping2D\n",
    "from keras.layers import Input, Add, Dropout, Permute, add"
   ]
  },
  {
   "cell_type": "code",
   "execution_count": 12,
   "metadata": {
    "collapsed": true
   },
   "outputs": [],
   "source": [
    "# Function to create to a series of CONV layers followed by Max pooling layer\n",
    "def Convblock(channel_dimension, block_no, no_of_convs) :\n",
    "    Layers = []\n",
    "    for i in range(no_of_convs) :\n",
    "        \n",
    "        Conv_name = \"conv\"+str(block_no)+\"_\"+str(i+1)\n",
    "        \n",
    "        # A constant kernel size of 3*3 is used for all convolutions\n",
    "        Layers.append(Convolution2D(channel_dimension,kernel_size = (3,3),padding = \"same\",activation = \"relu\",name = Conv_name))\n",
    "    \n",
    "    Max_pooling_name = \"pool\"+str(block_no)\n",
    "    \n",
    "    #Addding max pooling layer\n",
    "    Layers.append(MaxPooling2D(pool_size=(2, 2), strides=(2, 2),name = Max_pooling_name))\n",
    "    \n",
    "    return Layers"
   ]
  },
  {
   "cell_type": "code",
   "execution_count": 18,
   "metadata": {
    "collapsed": true
   },
   "outputs": [],
   "source": [
    "def FCN_8_helper(image_size):\n",
    "    model = Sequential()\n",
    "    model.add(Permute((1,2,3),input_shape = (image_size,image_size,3)))\n",
    "    \n",
    "    for l in Convblock(64,1,2) :\n",
    "        model.add(l)\n",
    "    \n",
    "    for l in Convblock(128,2,2):\n",
    "        model.add(l)\n",
    "    \n",
    "    for l in Convblock(256,3,3):\n",
    "        model.add(l)\n",
    "    \n",
    "    for l in Convblock(512,4,3):\n",
    "        model.add(l)\n",
    "    \n",
    "    for l in Convblock(512,5,3):\n",
    "        model.add(l)\n",
    "        \n",
    "    model.add(Convolution2D(4096,kernel_size=(7,7),padding = \"same\",activation = \"relu\",name = \"fc_6\"))\n",
    "      \n",
    "    #Replacing fully connnected layers of VGG Net using convolutions\n",
    "    model.add(Convolution2D(4096,kernel_size=(1,1),padding = \"same\",activation = \"relu\",name = \"fc7\"))\n",
    "    \n",
    "    # Gives the classifications scores for each of the 21 classes including background\n",
    "    model.add(Convolution2D(21,kernel_size=(1,1),padding=\"same\",activation=\"relu\",name = \"score_fr\"))\n",
    "    \n",
    "    Conv_size = model.layers[-1].output_shape[2] #16 if image size if 512\n",
    "    #print(Conv_size)\n",
    "    \n",
    "    model.add(Deconvolution2D(21,kernel_size=(4,4),strides = (2,2),padding = \"valid\",activation=None,name = \"score2\"))\n",
    "    \n",
    "    # O = ((I-K+2*P)/Stride)+1 \n",
    "    # O = Output dimesnion after convolution\n",
    "    # I = Input dimnesion\n",
    "    # K = kernel Size\n",
    "    # P = Padding\n",
    "    \n",
    "    # I = (O-1)*Stride + K \n",
    "    Deconv_size = model.layers[-1].output_shape[2] #34 if image size is 512*512\n",
    "    \n",
    "    #print(Deconv_size)\n",
    "    # 2 if image size is 512*512\n",
    "    Extra = (Deconv_size - 2*Conv_size)\n",
    "    \n",
    "    #print(Extra)\n",
    "    \n",
    "    #Cropping to get correct size\n",
    "    model.add(Cropping2D(cropping=((0,Extra),(0,Extra))))\n",
    "    \n",
    "    return model\n",
    "    \n",
    "    "
   ]
  },
  {
   "cell_type": "code",
   "execution_count": 20,
   "metadata": {},
   "outputs": [
    {
     "name": "stdout",
     "output_type": "stream",
     "text": [
      "24\n"
     ]
    }
   ],
   "source": [
    "output = FCN_8_helper(512)\n",
    "print(len(output.layers))"
   ]
  },
  {
   "cell_type": "code",
   "execution_count": 21,
   "metadata": {},
   "outputs": [
    {
     "name": "stdout",
     "output_type": "stream",
     "text": [
      "_________________________________________________________________\n",
      "Layer (type)                 Output Shape              Param #   \n",
      "=================================================================\n",
      "permute_5 (Permute)          (None, 512, 512, 3)       0         \n",
      "_________________________________________________________________\n",
      "conv1_1 (Conv2D)             (None, 512, 512, 64)      1792      \n",
      "_________________________________________________________________\n",
      "conv1_2 (Conv2D)             (None, 512, 512, 64)      36928     \n",
      "_________________________________________________________________\n",
      "pool1 (MaxPooling2D)         (None, 256, 256, 64)      0         \n",
      "_________________________________________________________________\n",
      "conv2_1 (Conv2D)             (None, 256, 256, 128)     73856     \n",
      "_________________________________________________________________\n",
      "conv2_2 (Conv2D)             (None, 256, 256, 128)     147584    \n",
      "_________________________________________________________________\n",
      "pool2 (MaxPooling2D)         (None, 128, 128, 128)     0         \n",
      "_________________________________________________________________\n",
      "conv3_1 (Conv2D)             (None, 128, 128, 256)     295168    \n",
      "_________________________________________________________________\n",
      "conv3_2 (Conv2D)             (None, 128, 128, 256)     590080    \n",
      "_________________________________________________________________\n",
      "conv3_3 (Conv2D)             (None, 128, 128, 256)     590080    \n",
      "_________________________________________________________________\n",
      "pool3 (MaxPooling2D)         (None, 64, 64, 256)       0         \n",
      "_________________________________________________________________\n",
      "conv4_1 (Conv2D)             (None, 64, 64, 512)       1180160   \n",
      "_________________________________________________________________\n",
      "conv4_2 (Conv2D)             (None, 64, 64, 512)       2359808   \n",
      "_________________________________________________________________\n",
      "conv4_3 (Conv2D)             (None, 64, 64, 512)       2359808   \n",
      "_________________________________________________________________\n",
      "pool4 (MaxPooling2D)         (None, 32, 32, 512)       0         \n",
      "_________________________________________________________________\n",
      "conv5_1 (Conv2D)             (None, 32, 32, 512)       2359808   \n",
      "_________________________________________________________________\n",
      "conv5_2 (Conv2D)             (None, 32, 32, 512)       2359808   \n",
      "_________________________________________________________________\n",
      "conv5_3 (Conv2D)             (None, 32, 32, 512)       2359808   \n",
      "_________________________________________________________________\n",
      "pool5 (MaxPooling2D)         (None, 16, 16, 512)       0         \n",
      "_________________________________________________________________\n",
      "fc_6 (Conv2D)                (None, 16, 16, 4096)      102764544 \n",
      "_________________________________________________________________\n",
      "fc7 (Conv2D)                 (None, 16, 16, 4096)      16781312  \n",
      "_________________________________________________________________\n",
      "score_fr (Conv2D)            (None, 16, 16, 21)        86037     \n",
      "_________________________________________________________________\n",
      "score2 (Conv2DTranspose)     (None, 34, 34, 21)        7077      \n",
      "_________________________________________________________________\n",
      "cropping2d_5 (Cropping2D)    (None, 32, 32, 21)        0         \n",
      "=================================================================\n",
      "Total params: 134,353,658\n",
      "Trainable params: 134,353,658\n",
      "Non-trainable params: 0\n",
      "_________________________________________________________________\n"
     ]
    }
   ],
   "source": [
    "output.summary()"
   ]
  },
  {
   "cell_type": "code",
   "execution_count": 42,
   "metadata": {},
   "outputs": [],
   "source": [
    "def FCN_8(image_size):\n",
    "    fcn_8 = FCN_8_helper(image_size)\n",
    "    #Calculating conv size after the sequential block\n",
    "    #32 if image size is 512*512\n",
    "    Conv_size = fcn_8.layers[-1].output_shape[2] \n",
    "    \n",
    "    skip_con1 = Convolution2D(21,kernel_size=(1,1),padding = \"same\",activation=None, name = \"score_pool4\")\n",
    "    \n",
    "    #Addig skip connection which takes adds the output of Max pooling layer 4 to current layer\n",
    "    Summed = add(inputs = [skip_con1(fcn_8.layers[14].output),fcn_8.layers[-1].output])\n",
    "    \n",
    "    x = Deconvolution2D(21,kernel_size=(4,4),strides = (2,2),padding = \"valid\",activation=None,name = \"score4\")(Summed)\n",
    "    x = Cropping2D(cropping=((0,2),(0,2)))(x)\n",
    "    \n",
    "    skip_con2 = Convolution2D(21,kernel_size=(1,1),padding = \"same\",activation=None, name = \"score_pool3\")\n",
    "    \n",
    "    Summed = add(inputs = [skip_con2(fcn_8.layers[10].output),x])\n",
    "    \n",
    "    Up = Deconvolution2D(21,kernel_size=(16,16),strides = (8,8),\n",
    "                         padding = \"valid\",activation = None,name = \"upsample_new\")(Summed)\n",
    "    \n",
    "    final = Cropping2D(cropping = ((0,8),(0,8)))(Up)\n",
    "    \n",
    "    \n",
    "    return Model(fcn_8.input, final)"
   ]
  },
  {
   "cell_type": "code",
   "execution_count": 43,
   "metadata": {},
   "outputs": [],
   "source": [
    "model = FCN_8(512)"
   ]
  },
  {
   "cell_type": "code",
   "execution_count": 44,
   "metadata": {},
   "outputs": [
    {
     "name": "stdout",
     "output_type": "stream",
     "text": [
      "____________________________________________________________________________________________________\n",
      "Layer (type)                     Output Shape          Param #     Connected to                     \n",
      "====================================================================================================\n",
      "permute_13_input (InputLayer)    (None, 512, 512, 3)   0                                            \n",
      "____________________________________________________________________________________________________\n",
      "permute_13 (Permute)             (None, 512, 512, 3)   0           permute_13_input[0][0]           \n",
      "____________________________________________________________________________________________________\n",
      "conv1_1 (Conv2D)                 (None, 512, 512, 64)  1792        permute_13[0][0]                 \n",
      "____________________________________________________________________________________________________\n",
      "conv1_2 (Conv2D)                 (None, 512, 512, 64)  36928       conv1_1[0][0]                    \n",
      "____________________________________________________________________________________________________\n",
      "pool1 (MaxPooling2D)             (None, 256, 256, 64)  0           conv1_2[0][0]                    \n",
      "____________________________________________________________________________________________________\n",
      "conv2_1 (Conv2D)                 (None, 256, 256, 128) 73856       pool1[0][0]                      \n",
      "____________________________________________________________________________________________________\n",
      "conv2_2 (Conv2D)                 (None, 256, 256, 128) 147584      conv2_1[0][0]                    \n",
      "____________________________________________________________________________________________________\n",
      "pool2 (MaxPooling2D)             (None, 128, 128, 128) 0           conv2_2[0][0]                    \n",
      "____________________________________________________________________________________________________\n",
      "conv3_1 (Conv2D)                 (None, 128, 128, 256) 295168      pool2[0][0]                      \n",
      "____________________________________________________________________________________________________\n",
      "conv3_2 (Conv2D)                 (None, 128, 128, 256) 590080      conv3_1[0][0]                    \n",
      "____________________________________________________________________________________________________\n",
      "conv3_3 (Conv2D)                 (None, 128, 128, 256) 590080      conv3_2[0][0]                    \n",
      "____________________________________________________________________________________________________\n",
      "pool3 (MaxPooling2D)             (None, 64, 64, 256)   0           conv3_3[0][0]                    \n",
      "____________________________________________________________________________________________________\n",
      "conv4_1 (Conv2D)                 (None, 64, 64, 512)   1180160     pool3[0][0]                      \n",
      "____________________________________________________________________________________________________\n",
      "conv4_2 (Conv2D)                 (None, 64, 64, 512)   2359808     conv4_1[0][0]                    \n",
      "____________________________________________________________________________________________________\n",
      "conv4_3 (Conv2D)                 (None, 64, 64, 512)   2359808     conv4_2[0][0]                    \n",
      "____________________________________________________________________________________________________\n",
      "pool4 (MaxPooling2D)             (None, 32, 32, 512)   0           conv4_3[0][0]                    \n",
      "____________________________________________________________________________________________________\n",
      "conv5_1 (Conv2D)                 (None, 32, 32, 512)   2359808     pool4[0][0]                      \n",
      "____________________________________________________________________________________________________\n",
      "conv5_2 (Conv2D)                 (None, 32, 32, 512)   2359808     conv5_1[0][0]                    \n",
      "____________________________________________________________________________________________________\n",
      "conv5_3 (Conv2D)                 (None, 32, 32, 512)   2359808     conv5_2[0][0]                    \n",
      "____________________________________________________________________________________________________\n",
      "pool5 (MaxPooling2D)             (None, 16, 16, 512)   0           conv5_3[0][0]                    \n",
      "____________________________________________________________________________________________________\n",
      "fc_6 (Conv2D)                    (None, 16, 16, 4096)  102764544   pool5[0][0]                      \n",
      "____________________________________________________________________________________________________\n",
      "fc7 (Conv2D)                     (None, 16, 16, 4096)  16781312    fc_6[0][0]                       \n",
      "____________________________________________________________________________________________________\n",
      "score_fr (Conv2D)                (None, 16, 16, 21)    86037       fc7[0][0]                        \n",
      "____________________________________________________________________________________________________\n",
      "score2 (Conv2DTranspose)         (None, 34, 34, 21)    7077        score_fr[0][0]                   \n",
      "____________________________________________________________________________________________________\n",
      "score_pool4 (Conv2D)             (None, 32, 32, 21)    10773       pool4[0][0]                      \n",
      "____________________________________________________________________________________________________\n",
      "cropping2d_16 (Cropping2D)       (None, 32, 32, 21)    0           score2[0][0]                     \n",
      "____________________________________________________________________________________________________\n",
      "add_6 (Add)                      (None, 32, 32, 21)    0           score_pool4[0][0]                \n",
      "                                                                   cropping2d_16[0][0]              \n",
      "____________________________________________________________________________________________________\n",
      "score4 (Conv2DTranspose)         (None, 66, 66, 21)    7077        add_6[0][0]                      \n",
      "____________________________________________________________________________________________________\n",
      "score_pool3 (Conv2D)             (None, 64, 64, 21)    5397        pool3[0][0]                      \n",
      "____________________________________________________________________________________________________\n",
      "cropping2d_17 (Cropping2D)       (None, 64, 64, 21)    0           score4[0][0]                     \n",
      "____________________________________________________________________________________________________\n",
      "add_7 (Add)                      (None, 64, 64, 21)    0           score_pool3[0][0]                \n",
      "                                                                   cropping2d_17[0][0]              \n",
      "____________________________________________________________________________________________________\n",
      "upsample_new (Conv2DTranspose)   (None, 520, 520, 21)  112917      add_7[0][0]                      \n",
      "____________________________________________________________________________________________________\n",
      "cropping2d_18 (Cropping2D)       (None, 512, 512, 21)  0           upsample_new[0][0]               \n",
      "====================================================================================================\n",
      "Total params: 134,489,822\n",
      "Trainable params: 134,489,822\n",
      "Non-trainable params: 0\n",
      "____________________________________________________________________________________________________\n"
     ]
    }
   ],
   "source": [
    "model.summary()"
   ]
  },
  {
   "cell_type": "code",
   "execution_count": 45,
   "metadata": {
    "collapsed": true
   },
   "outputs": [],
   "source": [
    "from keras.utils import plot_model"
   ]
  },
  {
   "cell_type": "code",
   "execution_count": 46,
   "metadata": {
    "collapsed": true
   },
   "outputs": [],
   "source": [
    "plot_model(model,\"FCN-8with_shapes.png\",show_shapes=True)"
   ]
  },
  {
   "cell_type": "code",
   "execution_count": null,
   "metadata": {
    "collapsed": true
   },
   "outputs": [],
   "source": []
  }
 ],
 "metadata": {
  "kernelspec": {
   "display_name": "Python 2",
   "language": "python",
   "name": "python2"
  },
  "language_info": {
   "codemirror_mode": {
    "name": "ipython",
    "version": 2
   },
   "file_extension": ".py",
   "mimetype": "text/x-python",
   "name": "python",
   "nbconvert_exporter": "python",
   "pygments_lexer": "ipython2",
   "version": "2.7.12"
  }
 },
 "nbformat": 4,
 "nbformat_minor": 2
}
